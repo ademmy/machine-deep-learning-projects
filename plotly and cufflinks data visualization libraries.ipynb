{
 "cells": [
  {
   "cell_type": "code",
   "execution_count": 1,
   "metadata": {},
   "outputs": [],
   "source": [
    "import pandas as pd\n",
    "import numpy as np\n",
    "%matplotlib inline"
   ]
  },
  {
   "cell_type": "code",
   "execution_count": 2,
   "metadata": {},
   "outputs": [
    {
     "ename": "ModuleNotFoundError",
     "evalue": "No module named 'plotly'",
     "output_type": "error",
     "traceback": [
      "\u001b[1;31m---------------------------------------------------------------------------\u001b[0m",
      "\u001b[1;31mModuleNotFoundError\u001b[0m                       Traceback (most recent call last)",
      "\u001b[1;32m<ipython-input-2-e29dc7db2f77>\u001b[0m in \u001b[0;36m<module>\u001b[1;34m\u001b[0m\n\u001b[1;32m----> 1\u001b[1;33m \u001b[1;32mfrom\u001b[0m \u001b[0mplotly\u001b[0m \u001b[1;32mimport\u001b[0m \u001b[0m__version__\u001b[0m\u001b[1;33m\u001b[0m\u001b[1;33m\u001b[0m\u001b[0m\n\u001b[0m\u001b[0;32m      2\u001b[0m \u001b[1;32mimport\u001b[0m \u001b[0mplotly\u001b[0m\u001b[1;33m.\u001b[0m\u001b[0mgraph_objs\u001b[0m \u001b[1;32mas\u001b[0m \u001b[0mgo\u001b[0m\u001b[1;33m\u001b[0m\u001b[1;33m\u001b[0m\u001b[0m\n",
      "\u001b[1;31mModuleNotFoundError\u001b[0m: No module named 'plotly'"
     ]
    }
   ],
   "source": [
    "from plotly import __version__\n",
    "import plotly.graph_objs as go"
   ]
  },
  {
   "cell_type": "code",
   "execution_count": null,
   "metadata": {},
   "outputs": [],
   "source": [
    "from IPython.display import display"
   ]
  },
  {
   "cell_type": "code",
   "execution_count": null,
   "metadata": {},
   "outputs": [],
   "source": [
    "import cufflinks as cf"
   ]
  },
  {
   "cell_type": "code",
   "execution_count": null,
   "metadata": {},
   "outputs": [],
   "source": [
    "from plotly.offline import download_plotlyjs, init_notebook_mode,plot,iplot"
   ]
  },
  {
   "cell_type": "code",
   "execution_count": null,
   "metadata": {},
   "outputs": [],
   "source": [
    "init_notebook_mode(connected=True)"
   ]
  },
  {
   "cell_type": "code",
   "execution_count": null,
   "metadata": {},
   "outputs": [],
   "source": [
    "cf.go_offline()"
   ]
  },
  {
   "cell_type": "code",
   "execution_count": 8,
   "metadata": {},
   "outputs": [],
   "source": [
    "#Data\n",
    "df=pd.DataFrame(np.random.randn(100,4), columns='A,B,C,D'.split(','))"
   ]
  },
  {
   "cell_type": "code",
   "execution_count": 9,
   "metadata": {},
   "outputs": [],
   "source": [
    "df2=pd.DataFrame({'Category':['A','B','C'], 'Values':[23,76,86]})"
   ]
  },
  {
   "cell_type": "code",
   "execution_count": 11,
   "metadata": {},
   "outputs": [
    {
     "data": {
      "text/html": [
       "<div>\n",
       "<style scoped>\n",
       "    .dataframe tbody tr th:only-of-type {\n",
       "        vertical-align: middle;\n",
       "    }\n",
       "\n",
       "    .dataframe tbody tr th {\n",
       "        vertical-align: top;\n",
       "    }\n",
       "\n",
       "    .dataframe thead th {\n",
       "        text-align: right;\n",
       "    }\n",
       "</style>\n",
       "<table border=\"1\" class=\"dataframe\">\n",
       "  <thead>\n",
       "    <tr style=\"text-align: right;\">\n",
       "      <th></th>\n",
       "      <th>Category</th>\n",
       "      <th>Values</th>\n",
       "    </tr>\n",
       "  </thead>\n",
       "  <tbody>\n",
       "    <tr>\n",
       "      <th>0</th>\n",
       "      <td>A</td>\n",
       "      <td>23</td>\n",
       "    </tr>\n",
       "    <tr>\n",
       "      <th>1</th>\n",
       "      <td>B</td>\n",
       "      <td>76</td>\n",
       "    </tr>\n",
       "    <tr>\n",
       "      <th>2</th>\n",
       "      <td>C</td>\n",
       "      <td>86</td>\n",
       "    </tr>\n",
       "  </tbody>\n",
       "</table>\n",
       "</div>"
      ],
      "text/plain": [
       "  Category  Values\n",
       "0        A      23\n",
       "1        B      76\n",
       "2        C      86"
      ]
     },
     "execution_count": 11,
     "metadata": {},
     "output_type": "execute_result"
    }
   ],
   "source": [
    "df2"
   ]
  },
  {
   "cell_type": "code",
   "execution_count": 15,
   "metadata": {},
   "outputs": [
    {
     "data": {
      "application/vnd.plotly.v1+json": {
       "config": {
        "linkText": "Export to plot.ly",
        "plotlyServerURL": "https://plot.ly",
        "showLink": true
       },
       "data": [
        {
         "line": {
          "color": "rgba(255, 153, 51, 1.0)",
          "dash": "solid",
          "shape": "linear",
          "width": 1.3
         },
         "marker": {
          "size": 12,
          "symbol": "circle"
         },
         "mode": "markers",
         "name": "B",
         "text": "",
         "type": "scatter",
         "uid": "5557876c-0a36-49f3-98ac-6e0d2b78bf82",
         "x": [
          -0.11436104437457917,
          -0.16351420547461384,
          1.0617163826278488,
          1.0546222707097028,
          1.2242600705873754,
          -2.7358591827709,
          -0.23791355457108554,
          -0.2584608180984836,
          0.2756314249851167,
          -1.0599760767070883,
          0.11180584907176978,
          -1.1888667365139212,
          -1.0468609923118397,
          0.6671611205042095,
          -1.8987348962886896,
          -0.7903003502176051,
          -0.2887625832924599,
          0.9920267272679816,
          0.11638140387359641,
          -0.42158166581063616,
          -0.3865542385908622,
          -0.22442465299436484,
          1.3675238816704436,
          1.314770962583423,
          -1.1560606216287777,
          0.6376164085896261,
          -1.48798884516249,
          1.6352212386615756,
          -0.8905491294446697,
          -0.7081529625633806,
          -1.19222583243437,
          -1.4632686183816197,
          1.4913149511729182,
          0.5068333117405118,
          -0.34190049789821964,
          -0.5297628973679191,
          0.9811341619290496,
          -0.07680495048836299,
          -0.307289494337322,
          0.382278379969669,
          0.36422290187092454,
          0.8900434266497916,
          0.6746104597474716,
          0.07096914145366974,
          -0.4222946349633997,
          1.8609377267341183,
          -0.3791381663250075,
          -1.4687350873202802,
          -0.22534814804562164,
          0.40946473253749816,
          0.5918823789794375,
          1.4169118685785609,
          0.48231752818520124,
          -0.8361171822209312,
          -0.6260816614804675,
          0.717996910239839,
          0.16064364374342585,
          -0.13110664740183137,
          -0.9047495011972159,
          -0.607413605138062,
          -0.8434904903935043,
          1.2587859047790493,
          0.2579463458218664,
          0.4490408358711917,
          -0.33017489202523875,
          -1.4517120124300977,
          -0.7470665347314296,
          0.6315169939955002,
          1.6953781675906812,
          0.32172947431524074,
          1.0956127215794178,
          0.8789865375174553,
          -1.8002203917569872,
          -1.4883930310797273,
          -1.0330114165122855,
          -1.0254623009386574,
          1.8736884783728438,
          0.8690612279650861,
          -0.15098934025602143,
          0.0055992025795628736,
          0.1715635341374785,
          -0.4102003122364352,
          1.677228749056344,
          -0.33791078150295856,
          -0.5410398278938059,
          -0.4512160785682074,
          -0.4758799043741067,
          -0.026911890167813427,
          -0.16150486488818394,
          -0.3563880182953907,
          -0.73284518319601,
          1.5203313973552621,
          0.3018221422938599,
          2.2786512172960216,
          2.9181829976815217,
          0.3494140170734569,
          -0.32769562947704656,
          -0.2675530359870781,
          0.5036058806850967,
          -0.7973947690464536
         ],
         "y": [
          -0.15033601872899033,
          0.6724075104236237,
          -0.3817157493440495,
          -0.34819062279133073,
          0.9637788090264651,
          1.4975020055413748,
          -0.30545614247531566,
          0.5356337694127965,
          2.237907276102657,
          -1.003154931305418,
          -0.4245243511676006,
          -1.7370908650406682,
          -1.2783012834949858,
          0.4442746341478427,
          -0.39541868305471095,
          -0.9125444347242379,
          0.7102100806052015,
          -0.3676017484606238,
          -2.2832366812821547,
          0.002140037886542549,
          1.1749654596428363,
          0.4038755904741907,
          1.9695967981128726,
          1.4348143938055287,
          0.5583018613656147,
          -0.4755800540053784,
          0.13151582808354528,
          0.7838114193373262,
          0.6023981931002057,
          0.8631306047827999,
          -1.3231193071850242,
          -0.8263781509976501,
          0.9408659396904506,
          0.27975429810115476,
          -0.6889643264477794,
          -0.5707065667455957,
          1.248205611072135,
          -0.7040831899053086,
          -0.25187881065040163,
          -1.1396230137018655,
          -0.9817178054732095,
          1.4372103118460118,
          -0.5524245840521148,
          -0.17059025709090603,
          0.2628784532611311,
          0.6602107364944212,
          2.268851555074559,
          0.19040693660707575,
          -0.789412274596752,
          -0.22123359335386464,
          -1.8795821280936813,
          -0.21563581731578538,
          0.8470094991547552,
          1.7744348252511202,
          0.026382404676846126,
          0.7226713532456503,
          -0.6585363680813299,
          -0.9184572258701481,
          -0.010664188149731944,
          -0.518322564080717,
          -1.4052028002888977,
          2.107216598849029,
          -1.7715149984023582,
          -1.4717347995666512,
          2.104435741171371,
          -1.1129899956180855,
          -1.5399583021749446,
          -0.8659542551377001,
          0.9767845607059262,
          0.08941796108315996,
          0.10091678992910992,
          -1.4919865726258232,
          -0.828054468795227,
          1.1364639929652034,
          -0.9217391091951224,
          -0.9448363959602274,
          0.7314247568125489,
          -0.09788228223247704,
          1.389845400649038,
          0.3730545242931376,
          1.1720252779626543,
          -1.5955358230262644,
          1.1202917492235773,
          0.9979962455506024,
          -0.5879699778004167,
          -0.6496254749221272,
          1.6921509804016868,
          1.778138487359821,
          0.9713291252465762,
          0.6375594260188687,
          -0.5983781310102554,
          0.9413692016529001,
          -0.9971269673541336,
          -0.5758602294688083,
          -1.8215269215685435,
          -0.013057801087246511,
          -0.09165402642254276,
          0.5083504781651574,
          0.05075585850056611,
          -1.6599603190059542
         ]
        }
       ],
       "layout": {
        "legend": {
         "bgcolor": "#F5F6F9",
         "font": {
          "color": "#4D5663"
         }
        },
        "paper_bgcolor": "#F5F6F9",
        "plot_bgcolor": "#F5F6F9",
        "title": {
         "font": {
          "color": "#4D5663"
         }
        },
        "xaxis": {
         "gridcolor": "#E1E5ED",
         "showgrid": true,
         "tickfont": {
          "color": "#4D5663"
         },
         "title": {
          "font": {
           "color": "#4D5663"
          },
          "text": ""
         },
         "zerolinecolor": "#E1E5ED"
        },
        "yaxis": {
         "gridcolor": "#E1E5ED",
         "showgrid": true,
         "tickfont": {
          "color": "#4D5663"
         },
         "title": {
          "font": {
           "color": "#4D5663"
          },
          "text": ""
         },
         "zerolinecolor": "#E1E5ED"
        }
       }
      },
      "text/html": [
       "<div id=\"95d693fa-fac2-4584-bd73-ae3be0938789\" style=\"height: 525px; width: 100%;\" class=\"plotly-graph-div\"></div><script type=\"text/javascript\">require([\"plotly\"], function(Plotly) { window.PLOTLYENV=window.PLOTLYENV || {};window.PLOTLYENV.BASE_URL=\"https://plot.ly\";Plotly.newPlot(\"95d693fa-fac2-4584-bd73-ae3be0938789\", [{\"line\": {\"color\": \"rgba(255, 153, 51, 1.0)\", \"dash\": \"solid\", \"shape\": \"linear\", \"width\": 1.3}, \"marker\": {\"size\": 12, \"symbol\": \"circle\"}, \"mode\": \"markers\", \"name\": \"B\", \"text\": \"\", \"x\": [-0.11436104437457917, -0.16351420547461384, 1.0617163826278488, 1.0546222707097028, 1.2242600705873754, -2.7358591827709, -0.23791355457108554, -0.2584608180984836, 0.2756314249851167, -1.0599760767070883, 0.11180584907176978, -1.1888667365139212, -1.0468609923118397, 0.6671611205042095, -1.8987348962886896, -0.7903003502176051, -0.2887625832924599, 0.9920267272679816, 0.11638140387359641, -0.42158166581063616, -0.3865542385908622, -0.22442465299436484, 1.3675238816704436, 1.314770962583423, -1.1560606216287777, 0.6376164085896261, -1.48798884516249, 1.6352212386615756, -0.8905491294446697, -0.7081529625633806, -1.19222583243437, -1.4632686183816197, 1.4913149511729182, 0.5068333117405118, -0.34190049789821964, -0.5297628973679191, 0.9811341619290496, -0.07680495048836299, -0.307289494337322, 0.382278379969669, 0.36422290187092454, 0.8900434266497916, 0.6746104597474716, 0.07096914145366974, -0.4222946349633997, 1.8609377267341183, -0.3791381663250075, -1.4687350873202802, -0.22534814804562164, 0.40946473253749816, 0.5918823789794375, 1.4169118685785609, 0.48231752818520124, -0.8361171822209312, -0.6260816614804675, 0.717996910239839, 0.16064364374342585, -0.13110664740183137, -0.9047495011972159, -0.607413605138062, -0.8434904903935043, 1.2587859047790493, 0.2579463458218664, 0.4490408358711917, -0.33017489202523875, -1.4517120124300977, -0.7470665347314296, 0.6315169939955002, 1.6953781675906812, 0.32172947431524074, 1.0956127215794178, 0.8789865375174553, -1.8002203917569872, -1.4883930310797273, -1.0330114165122855, -1.0254623009386574, 1.8736884783728438, 0.8690612279650861, -0.15098934025602143, 0.0055992025795628736, 0.1715635341374785, -0.4102003122364352, 1.677228749056344, -0.33791078150295856, -0.5410398278938059, -0.4512160785682074, -0.4758799043741067, -0.026911890167813427, -0.16150486488818394, -0.3563880182953907, -0.73284518319601, 1.5203313973552621, 0.3018221422938599, 2.2786512172960216, 2.9181829976815217, 0.3494140170734569, -0.32769562947704656, -0.2675530359870781, 0.5036058806850967, -0.7973947690464536], \"y\": [-0.15033601872899033, 0.6724075104236237, -0.3817157493440495, -0.34819062279133073, 0.9637788090264651, 1.4975020055413748, -0.30545614247531566, 0.5356337694127965, 2.237907276102657, -1.003154931305418, -0.4245243511676006, -1.7370908650406682, -1.2783012834949858, 0.4442746341478427, -0.39541868305471095, -0.9125444347242379, 0.7102100806052015, -0.3676017484606238, -2.2832366812821547, 0.002140037886542549, 1.1749654596428363, 0.4038755904741907, 1.9695967981128726, 1.4348143938055287, 0.5583018613656147, -0.4755800540053784, 0.13151582808354528, 0.7838114193373262, 0.6023981931002057, 0.8631306047827999, -1.3231193071850242, -0.8263781509976501, 0.9408659396904506, 0.27975429810115476, -0.6889643264477794, -0.5707065667455957, 1.248205611072135, -0.7040831899053086, -0.25187881065040163, -1.1396230137018655, -0.9817178054732095, 1.4372103118460118, -0.5524245840521148, -0.17059025709090603, 0.2628784532611311, 0.6602107364944212, 2.268851555074559, 0.19040693660707575, -0.789412274596752, -0.22123359335386464, -1.8795821280936813, -0.21563581731578538, 0.8470094991547552, 1.7744348252511202, 0.026382404676846126, 0.7226713532456503, -0.6585363680813299, -0.9184572258701481, -0.010664188149731944, -0.518322564080717, -1.4052028002888977, 2.107216598849029, -1.7715149984023582, -1.4717347995666512, 2.104435741171371, -1.1129899956180855, -1.5399583021749446, -0.8659542551377001, 0.9767845607059262, 0.08941796108315996, 0.10091678992910992, -1.4919865726258232, -0.828054468795227, 1.1364639929652034, -0.9217391091951224, -0.9448363959602274, 0.7314247568125489, -0.09788228223247704, 1.389845400649038, 0.3730545242931376, 1.1720252779626543, -1.5955358230262644, 1.1202917492235773, 0.9979962455506024, -0.5879699778004167, -0.6496254749221272, 1.6921509804016868, 1.778138487359821, 0.9713291252465762, 0.6375594260188687, -0.5983781310102554, 0.9413692016529001, -0.9971269673541336, -0.5758602294688083, -1.8215269215685435, -0.013057801087246511, -0.09165402642254276, 0.5083504781651574, 0.05075585850056611, -1.6599603190059542], \"type\": \"scatter\", \"uid\": \"75b85d7f-9d18-44fa-b1ba-0ac8b60c421f\"}], {\"legend\": {\"bgcolor\": \"#F5F6F9\", \"font\": {\"color\": \"#4D5663\"}}, \"paper_bgcolor\": \"#F5F6F9\", \"plot_bgcolor\": \"#F5F6F9\", \"title\": {\"font\": {\"color\": \"#4D5663\"}}, \"xaxis\": {\"gridcolor\": \"#E1E5ED\", \"showgrid\": true, \"tickfont\": {\"color\": \"#4D5663\"}, \"title\": {\"text\": \"\", \"font\": {\"color\": \"#4D5663\"}}, \"zerolinecolor\": \"#E1E5ED\"}, \"yaxis\": {\"gridcolor\": \"#E1E5ED\", \"showgrid\": true, \"tickfont\": {\"color\": \"#4D5663\"}, \"title\": {\"text\": \"\", \"font\": {\"color\": \"#4D5663\"}}, \"zerolinecolor\": \"#E1E5ED\"}}, {\"showLink\": true, \"linkText\": \"Export to plot.ly\", \"plotlyServerURL\": \"https://plot.ly\"})});</script><script type=\"text/javascript\">window.addEventListener(\"resize\", function(){window._Plotly.Plots.resize(document.getElementById(\"95d693fa-fac2-4584-bd73-ae3be0938789\"));});</script>"
      ],
      "text/vnd.plotly.v1+html": [
       "<div id=\"95d693fa-fac2-4584-bd73-ae3be0938789\" style=\"height: 525px; width: 100%;\" class=\"plotly-graph-div\"></div><script type=\"text/javascript\">require([\"plotly\"], function(Plotly) { window.PLOTLYENV=window.PLOTLYENV || {};window.PLOTLYENV.BASE_URL=\"https://plot.ly\";Plotly.newPlot(\"95d693fa-fac2-4584-bd73-ae3be0938789\", [{\"line\": {\"color\": \"rgba(255, 153, 51, 1.0)\", \"dash\": \"solid\", \"shape\": \"linear\", \"width\": 1.3}, \"marker\": {\"size\": 12, \"symbol\": \"circle\"}, \"mode\": \"markers\", \"name\": \"B\", \"text\": \"\", \"x\": [-0.11436104437457917, -0.16351420547461384, 1.0617163826278488, 1.0546222707097028, 1.2242600705873754, -2.7358591827709, -0.23791355457108554, -0.2584608180984836, 0.2756314249851167, -1.0599760767070883, 0.11180584907176978, -1.1888667365139212, -1.0468609923118397, 0.6671611205042095, -1.8987348962886896, -0.7903003502176051, -0.2887625832924599, 0.9920267272679816, 0.11638140387359641, -0.42158166581063616, -0.3865542385908622, -0.22442465299436484, 1.3675238816704436, 1.314770962583423, -1.1560606216287777, 0.6376164085896261, -1.48798884516249, 1.6352212386615756, -0.8905491294446697, -0.7081529625633806, -1.19222583243437, -1.4632686183816197, 1.4913149511729182, 0.5068333117405118, -0.34190049789821964, -0.5297628973679191, 0.9811341619290496, -0.07680495048836299, -0.307289494337322, 0.382278379969669, 0.36422290187092454, 0.8900434266497916, 0.6746104597474716, 0.07096914145366974, -0.4222946349633997, 1.8609377267341183, -0.3791381663250075, -1.4687350873202802, -0.22534814804562164, 0.40946473253749816, 0.5918823789794375, 1.4169118685785609, 0.48231752818520124, -0.8361171822209312, -0.6260816614804675, 0.717996910239839, 0.16064364374342585, -0.13110664740183137, -0.9047495011972159, -0.607413605138062, -0.8434904903935043, 1.2587859047790493, 0.2579463458218664, 0.4490408358711917, -0.33017489202523875, -1.4517120124300977, -0.7470665347314296, 0.6315169939955002, 1.6953781675906812, 0.32172947431524074, 1.0956127215794178, 0.8789865375174553, -1.8002203917569872, -1.4883930310797273, -1.0330114165122855, -1.0254623009386574, 1.8736884783728438, 0.8690612279650861, -0.15098934025602143, 0.0055992025795628736, 0.1715635341374785, -0.4102003122364352, 1.677228749056344, -0.33791078150295856, -0.5410398278938059, -0.4512160785682074, -0.4758799043741067, -0.026911890167813427, -0.16150486488818394, -0.3563880182953907, -0.73284518319601, 1.5203313973552621, 0.3018221422938599, 2.2786512172960216, 2.9181829976815217, 0.3494140170734569, -0.32769562947704656, -0.2675530359870781, 0.5036058806850967, -0.7973947690464536], \"y\": [-0.15033601872899033, 0.6724075104236237, -0.3817157493440495, -0.34819062279133073, 0.9637788090264651, 1.4975020055413748, -0.30545614247531566, 0.5356337694127965, 2.237907276102657, -1.003154931305418, -0.4245243511676006, -1.7370908650406682, -1.2783012834949858, 0.4442746341478427, -0.39541868305471095, -0.9125444347242379, 0.7102100806052015, -0.3676017484606238, -2.2832366812821547, 0.002140037886542549, 1.1749654596428363, 0.4038755904741907, 1.9695967981128726, 1.4348143938055287, 0.5583018613656147, -0.4755800540053784, 0.13151582808354528, 0.7838114193373262, 0.6023981931002057, 0.8631306047827999, -1.3231193071850242, -0.8263781509976501, 0.9408659396904506, 0.27975429810115476, -0.6889643264477794, -0.5707065667455957, 1.248205611072135, -0.7040831899053086, -0.25187881065040163, -1.1396230137018655, -0.9817178054732095, 1.4372103118460118, -0.5524245840521148, -0.17059025709090603, 0.2628784532611311, 0.6602107364944212, 2.268851555074559, 0.19040693660707575, -0.789412274596752, -0.22123359335386464, -1.8795821280936813, -0.21563581731578538, 0.8470094991547552, 1.7744348252511202, 0.026382404676846126, 0.7226713532456503, -0.6585363680813299, -0.9184572258701481, -0.010664188149731944, -0.518322564080717, -1.4052028002888977, 2.107216598849029, -1.7715149984023582, -1.4717347995666512, 2.104435741171371, -1.1129899956180855, -1.5399583021749446, -0.8659542551377001, 0.9767845607059262, 0.08941796108315996, 0.10091678992910992, -1.4919865726258232, -0.828054468795227, 1.1364639929652034, -0.9217391091951224, -0.9448363959602274, 0.7314247568125489, -0.09788228223247704, 1.389845400649038, 0.3730545242931376, 1.1720252779626543, -1.5955358230262644, 1.1202917492235773, 0.9979962455506024, -0.5879699778004167, -0.6496254749221272, 1.6921509804016868, 1.778138487359821, 0.9713291252465762, 0.6375594260188687, -0.5983781310102554, 0.9413692016529001, -0.9971269673541336, -0.5758602294688083, -1.8215269215685435, -0.013057801087246511, -0.09165402642254276, 0.5083504781651574, 0.05075585850056611, -1.6599603190059542], \"type\": \"scatter\", \"uid\": \"75b85d7f-9d18-44fa-b1ba-0ac8b60c421f\"}], {\"legend\": {\"bgcolor\": \"#F5F6F9\", \"font\": {\"color\": \"#4D5663\"}}, \"paper_bgcolor\": \"#F5F6F9\", \"plot_bgcolor\": \"#F5F6F9\", \"title\": {\"font\": {\"color\": \"#4D5663\"}}, \"xaxis\": {\"gridcolor\": \"#E1E5ED\", \"showgrid\": true, \"tickfont\": {\"color\": \"#4D5663\"}, \"title\": {\"text\": \"\", \"font\": {\"color\": \"#4D5663\"}}, \"zerolinecolor\": \"#E1E5ED\"}, \"yaxis\": {\"gridcolor\": \"#E1E5ED\", \"showgrid\": true, \"tickfont\": {\"color\": \"#4D5663\"}, \"title\": {\"text\": \"\", \"font\": {\"color\": \"#4D5663\"}}, \"zerolinecolor\": \"#E1E5ED\"}}, {\"showLink\": true, \"linkText\": \"Export to plot.ly\", \"plotlyServerURL\": \"https://plot.ly\"})});</script><script type=\"text/javascript\">window.addEventListener(\"resize\", function(){window._Plotly.Plots.resize(document.getElementById(\"95d693fa-fac2-4584-bd73-ae3be0938789\"));});</script>"
      ]
     },
     "metadata": {},
     "output_type": "display_data"
    }
   ],
   "source": [
    "df.iplot(kind='scatter', x='A', y='B', mode='markers')"
   ]
  },
  {
   "cell_type": "code",
   "execution_count": 13,
   "metadata": {},
   "outputs": [
    {
     "data": {
      "application/vnd.plotly.v1+json": {
       "config": {
        "linkText": "Export to plot.ly",
        "plotlyServerURL": "https://plot.ly",
        "showLink": true
       },
       "data": [
        {
         "marker": {
          "color": "rgba(255, 153, 51, 0.6)",
          "line": {
           "color": "rgba(255, 153, 51, 1.0)",
           "width": 1
          }
         },
         "name": "Values",
         "orientation": "v",
         "text": "",
         "type": "bar",
         "uid": "eb835402-294b-498b-ab7e-50744f56a8de",
         "x": [
          "A",
          "B",
          "C"
         ],
         "y": [
          23,
          76,
          86
         ]
        }
       ],
       "layout": {
        "legend": {
         "bgcolor": "#F5F6F9",
         "font": {
          "color": "#4D5663"
         }
        },
        "paper_bgcolor": "#F5F6F9",
        "plot_bgcolor": "#F5F6F9",
        "title": {
         "font": {
          "color": "#4D5663"
         }
        },
        "xaxis": {
         "gridcolor": "#E1E5ED",
         "showgrid": true,
         "tickfont": {
          "color": "#4D5663"
         },
         "title": {
          "font": {
           "color": "#4D5663"
          },
          "text": ""
         },
         "zerolinecolor": "#E1E5ED"
        },
        "yaxis": {
         "gridcolor": "#E1E5ED",
         "showgrid": true,
         "tickfont": {
          "color": "#4D5663"
         },
         "title": {
          "font": {
           "color": "#4D5663"
          },
          "text": ""
         },
         "zerolinecolor": "#E1E5ED"
        }
       }
      },
      "text/html": [
       "<div id=\"39124828-b297-48ec-8859-d367017166bf\" style=\"height: 525px; width: 100%;\" class=\"plotly-graph-div\"></div><script type=\"text/javascript\">require([\"plotly\"], function(Plotly) { window.PLOTLYENV=window.PLOTLYENV || {};window.PLOTLYENV.BASE_URL=\"https://plot.ly\";Plotly.newPlot(\"39124828-b297-48ec-8859-d367017166bf\", [{\"marker\": {\"color\": \"rgba(255, 153, 51, 0.6)\", \"line\": {\"color\": \"rgba(255, 153, 51, 1.0)\", \"width\": 1}}, \"name\": \"Values\", \"orientation\": \"v\", \"text\": \"\", \"x\": [\"A\", \"B\", \"C\"], \"y\": [23, 76, 86], \"type\": \"bar\", \"uid\": \"f8fcbd73-d30d-4336-97c4-b0ec39bab5bf\"}], {\"legend\": {\"bgcolor\": \"#F5F6F9\", \"font\": {\"color\": \"#4D5663\"}}, \"paper_bgcolor\": \"#F5F6F9\", \"plot_bgcolor\": \"#F5F6F9\", \"title\": {\"font\": {\"color\": \"#4D5663\"}}, \"xaxis\": {\"gridcolor\": \"#E1E5ED\", \"showgrid\": true, \"tickfont\": {\"color\": \"#4D5663\"}, \"title\": {\"text\": \"\", \"font\": {\"color\": \"#4D5663\"}}, \"zerolinecolor\": \"#E1E5ED\"}, \"yaxis\": {\"gridcolor\": \"#E1E5ED\", \"showgrid\": true, \"tickfont\": {\"color\": \"#4D5663\"}, \"title\": {\"text\": \"\", \"font\": {\"color\": \"#4D5663\"}}, \"zerolinecolor\": \"#E1E5ED\"}}, {\"showLink\": true, \"linkText\": \"Export to plot.ly\", \"plotlyServerURL\": \"https://plot.ly\"})});</script><script type=\"text/javascript\">window.addEventListener(\"resize\", function(){window._Plotly.Plots.resize(document.getElementById(\"39124828-b297-48ec-8859-d367017166bf\"));});</script>"
      ],
      "text/vnd.plotly.v1+html": [
       "<div id=\"39124828-b297-48ec-8859-d367017166bf\" style=\"height: 525px; width: 100%;\" class=\"plotly-graph-div\"></div><script type=\"text/javascript\">require([\"plotly\"], function(Plotly) { window.PLOTLYENV=window.PLOTLYENV || {};window.PLOTLYENV.BASE_URL=\"https://plot.ly\";Plotly.newPlot(\"39124828-b297-48ec-8859-d367017166bf\", [{\"marker\": {\"color\": \"rgba(255, 153, 51, 0.6)\", \"line\": {\"color\": \"rgba(255, 153, 51, 1.0)\", \"width\": 1}}, \"name\": \"Values\", \"orientation\": \"v\", \"text\": \"\", \"x\": [\"A\", \"B\", \"C\"], \"y\": [23, 76, 86], \"type\": \"bar\", \"uid\": \"f8fcbd73-d30d-4336-97c4-b0ec39bab5bf\"}], {\"legend\": {\"bgcolor\": \"#F5F6F9\", \"font\": {\"color\": \"#4D5663\"}}, \"paper_bgcolor\": \"#F5F6F9\", \"plot_bgcolor\": \"#F5F6F9\", \"title\": {\"font\": {\"color\": \"#4D5663\"}}, \"xaxis\": {\"gridcolor\": \"#E1E5ED\", \"showgrid\": true, \"tickfont\": {\"color\": \"#4D5663\"}, \"title\": {\"text\": \"\", \"font\": {\"color\": \"#4D5663\"}}, \"zerolinecolor\": \"#E1E5ED\"}, \"yaxis\": {\"gridcolor\": \"#E1E5ED\", \"showgrid\": true, \"tickfont\": {\"color\": \"#4D5663\"}, \"title\": {\"text\": \"\", \"font\": {\"color\": \"#4D5663\"}}, \"zerolinecolor\": \"#E1E5ED\"}}, {\"showLink\": true, \"linkText\": \"Export to plot.ly\", \"plotlyServerURL\": \"https://plot.ly\"})});</script><script type=\"text/javascript\">window.addEventListener(\"resize\", function(){window._Plotly.Plots.resize(document.getElementById(\"39124828-b297-48ec-8859-d367017166bf\"));});</script>"
      ]
     },
     "metadata": {},
     "output_type": "display_data"
    }
   ],
   "source": [
    "df2.iplot(kind='bar',x='Category', y='Values')"
   ]
  },
  {
   "cell_type": "code",
   "execution_count": 14,
   "metadata": {},
   "outputs": [
    {
     "data": {
      "application/vnd.plotly.v1+json": {
       "config": {
        "linkText": "Export to plot.ly",
        "plotlyServerURL": "https://plot.ly",
        "showLink": true
       },
       "data": [
        {
         "marker": {
          "color": "rgba(255, 153, 51, 0.6)",
          "line": {
           "color": "rgba(255, 153, 51, 1.0)",
           "width": 1
          }
         },
         "name": "None",
         "orientation": "v",
         "text": "",
         "type": "bar",
         "uid": "05f9b7e6-beed-448a-878f-31dc8e3a6cdc",
         "x": [
          "A",
          "B",
          "C",
          "D"
         ],
         "y": [
          2.190224903057177,
          0.997641963536531,
          -2.6322993759738353,
          -5.107372730619223
         ]
        }
       ],
       "layout": {
        "legend": {
         "bgcolor": "#F5F6F9",
         "font": {
          "color": "#4D5663"
         }
        },
        "paper_bgcolor": "#F5F6F9",
        "plot_bgcolor": "#F5F6F9",
        "title": {
         "font": {
          "color": "#4D5663"
         }
        },
        "xaxis": {
         "gridcolor": "#E1E5ED",
         "showgrid": true,
         "tickfont": {
          "color": "#4D5663"
         },
         "title": {
          "font": {
           "color": "#4D5663"
          },
          "text": ""
         },
         "zerolinecolor": "#E1E5ED"
        },
        "yaxis": {
         "gridcolor": "#E1E5ED",
         "showgrid": true,
         "tickfont": {
          "color": "#4D5663"
         },
         "title": {
          "font": {
           "color": "#4D5663"
          },
          "text": ""
         },
         "zerolinecolor": "#E1E5ED"
        }
       }
      },
      "text/html": [
       "<div id=\"b6a2314b-5283-4a2e-93d4-5369e576ef9a\" style=\"height: 525px; width: 100%;\" class=\"plotly-graph-div\"></div><script type=\"text/javascript\">require([\"plotly\"], function(Plotly) { window.PLOTLYENV=window.PLOTLYENV || {};window.PLOTLYENV.BASE_URL=\"https://plot.ly\";Plotly.newPlot(\"b6a2314b-5283-4a2e-93d4-5369e576ef9a\", [{\"marker\": {\"color\": \"rgba(255, 153, 51, 0.6)\", \"line\": {\"color\": \"rgba(255, 153, 51, 1.0)\", \"width\": 1}}, \"name\": \"None\", \"orientation\": \"v\", \"text\": \"\", \"x\": [\"A\", \"B\", \"C\", \"D\"], \"y\": [2.190224903057177, 0.997641963536531, -2.6322993759738353, -5.107372730619223], \"type\": \"bar\", \"uid\": \"e87d328c-2706-42eb-a3ce-119c2b7fea74\"}], {\"legend\": {\"bgcolor\": \"#F5F6F9\", \"font\": {\"color\": \"#4D5663\"}}, \"paper_bgcolor\": \"#F5F6F9\", \"plot_bgcolor\": \"#F5F6F9\", \"title\": {\"font\": {\"color\": \"#4D5663\"}}, \"xaxis\": {\"gridcolor\": \"#E1E5ED\", \"showgrid\": true, \"tickfont\": {\"color\": \"#4D5663\"}, \"title\": {\"text\": \"\", \"font\": {\"color\": \"#4D5663\"}}, \"zerolinecolor\": \"#E1E5ED\"}, \"yaxis\": {\"gridcolor\": \"#E1E5ED\", \"showgrid\": true, \"tickfont\": {\"color\": \"#4D5663\"}, \"title\": {\"text\": \"\", \"font\": {\"color\": \"#4D5663\"}}, \"zerolinecolor\": \"#E1E5ED\"}}, {\"showLink\": true, \"linkText\": \"Export to plot.ly\", \"plotlyServerURL\": \"https://plot.ly\"})});</script><script type=\"text/javascript\">window.addEventListener(\"resize\", function(){window._Plotly.Plots.resize(document.getElementById(\"b6a2314b-5283-4a2e-93d4-5369e576ef9a\"));});</script>"
      ],
      "text/vnd.plotly.v1+html": [
       "<div id=\"b6a2314b-5283-4a2e-93d4-5369e576ef9a\" style=\"height: 525px; width: 100%;\" class=\"plotly-graph-div\"></div><script type=\"text/javascript\">require([\"plotly\"], function(Plotly) { window.PLOTLYENV=window.PLOTLYENV || {};window.PLOTLYENV.BASE_URL=\"https://plot.ly\";Plotly.newPlot(\"b6a2314b-5283-4a2e-93d4-5369e576ef9a\", [{\"marker\": {\"color\": \"rgba(255, 153, 51, 0.6)\", \"line\": {\"color\": \"rgba(255, 153, 51, 1.0)\", \"width\": 1}}, \"name\": \"None\", \"orientation\": \"v\", \"text\": \"\", \"x\": [\"A\", \"B\", \"C\", \"D\"], \"y\": [2.190224903057177, 0.997641963536531, -2.6322993759738353, -5.107372730619223], \"type\": \"bar\", \"uid\": \"e87d328c-2706-42eb-a3ce-119c2b7fea74\"}], {\"legend\": {\"bgcolor\": \"#F5F6F9\", \"font\": {\"color\": \"#4D5663\"}}, \"paper_bgcolor\": \"#F5F6F9\", \"plot_bgcolor\": \"#F5F6F9\", \"title\": {\"font\": {\"color\": \"#4D5663\"}}, \"xaxis\": {\"gridcolor\": \"#E1E5ED\", \"showgrid\": true, \"tickfont\": {\"color\": \"#4D5663\"}, \"title\": {\"text\": \"\", \"font\": {\"color\": \"#4D5663\"}}, \"zerolinecolor\": \"#E1E5ED\"}, \"yaxis\": {\"gridcolor\": \"#E1E5ED\", \"showgrid\": true, \"tickfont\": {\"color\": \"#4D5663\"}, \"title\": {\"text\": \"\", \"font\": {\"color\": \"#4D5663\"}}, \"zerolinecolor\": \"#E1E5ED\"}}, {\"showLink\": true, \"linkText\": \"Export to plot.ly\", \"plotlyServerURL\": \"https://plot.ly\"})});</script><script type=\"text/javascript\">window.addEventListener(\"resize\", function(){window._Plotly.Plots.resize(document.getElementById(\"b6a2314b-5283-4a2e-93d4-5369e576ef9a\"));});</script>"
      ]
     },
     "metadata": {},
     "output_type": "display_data"
    }
   ],
   "source": [
    "df.sum().iplot(kind='bar')"
   ]
  },
  {
   "cell_type": "code",
   "execution_count": null,
   "metadata": {},
   "outputs": [],
   "source": []
  },
  {
   "cell_type": "code",
   "execution_count": 26,
   "metadata": {},
   "outputs": [],
   "source": [
    "data= dict(type='choropleth',\n",
    "          locations= ['AZ','CA','NY'],\n",
    "          locationmode= 'USA-states',\n",
    "          colorscale= 'Greens',\n",
    "          text= ['text 1', 'text 2', 'text 3'],\n",
    "          z=[1.0, 2.0,3.0],\n",
    "          colorbar= {'title':'colorbar is here'})"
   ]
  },
  {
   "cell_type": "code",
   "execution_count": 18,
   "metadata": {},
   "outputs": [],
   "source": [
    "layout= dict(geo={'scope':'usa'})"
   ]
  },
  {
   "cell_type": "code",
   "execution_count": 28,
   "metadata": {},
   "outputs": [],
   "source": [
    "choromap =go.Figure(data= [data] ,layout= layout)"
   ]
  },
  {
   "cell_type": "code",
   "execution_count": 30,
   "metadata": {},
   "outputs": [
    {
     "data": {
      "application/vnd.plotly.v1+json": {
       "config": {
        "linkText": "Export to plot.ly",
        "plotlyServerURL": "https://plot.ly",
        "showLink": false
       },
       "data": [
        {
         "colorbar": {
          "title": {
           "text": "colorbar is here"
          }
         },
         "colorscale": "Greens",
         "locationmode": "USA-states",
         "locations": [
          "AZ",
          "CA",
          "NY"
         ],
         "text": [
          "text 1",
          "text 2",
          "text 3"
         ],
         "type": "choropleth",
         "uid": "0ac56428-2607-4115-a303-bbf9920282bc",
         "z": [
          1,
          2,
          3
         ]
        }
       ],
       "layout": {
        "geo": {
         "scope": "usa"
        }
       }
      },
      "text/html": [
       "<div id=\"b84d154f-9e02-4230-834e-c84bc8fe6834\" style=\"height: 525px; width: 100%;\" class=\"plotly-graph-div\"></div><script type=\"text/javascript\">require([\"plotly\"], function(Plotly) { window.PLOTLYENV=window.PLOTLYENV || {};window.PLOTLYENV.BASE_URL=\"https://plot.ly\";Plotly.newPlot(\"b84d154f-9e02-4230-834e-c84bc8fe6834\", [{\"colorbar\": {\"title\": {\"text\": \"colorbar is here\"}}, \"colorscale\": \"Greens\", \"locationmode\": \"USA-states\", \"locations\": [\"AZ\", \"CA\", \"NY\"], \"text\": [\"text 1\", \"text 2\", \"text 3\"], \"z\": [1.0, 2.0, 3.0], \"type\": \"choropleth\", \"uid\": \"0ac56428-2607-4115-a303-bbf9920282bc\"}], {\"geo\": {\"scope\": \"usa\"}}, {\"showLink\": false, \"linkText\": \"Export to plot.ly\", \"plotlyServerURL\": \"https://plot.ly\"})});</script><script type=\"text/javascript\">window.addEventListener(\"resize\", function(){window._Plotly.Plots.resize(document.getElementById(\"b84d154f-9e02-4230-834e-c84bc8fe6834\"));});</script>"
      ],
      "text/vnd.plotly.v1+html": [
       "<div id=\"b84d154f-9e02-4230-834e-c84bc8fe6834\" style=\"height: 525px; width: 100%;\" class=\"plotly-graph-div\"></div><script type=\"text/javascript\">require([\"plotly\"], function(Plotly) { window.PLOTLYENV=window.PLOTLYENV || {};window.PLOTLYENV.BASE_URL=\"https://plot.ly\";Plotly.newPlot(\"b84d154f-9e02-4230-834e-c84bc8fe6834\", [{\"colorbar\": {\"title\": {\"text\": \"colorbar is here\"}}, \"colorscale\": \"Greens\", \"locationmode\": \"USA-states\", \"locations\": [\"AZ\", \"CA\", \"NY\"], \"text\": [\"text 1\", \"text 2\", \"text 3\"], \"z\": [1.0, 2.0, 3.0], \"type\": \"choropleth\", \"uid\": \"0ac56428-2607-4115-a303-bbf9920282bc\"}], {\"geo\": {\"scope\": \"usa\"}}, {\"showLink\": false, \"linkText\": \"Export to plot.ly\", \"plotlyServerURL\": \"https://plot.ly\"})});</script><script type=\"text/javascript\">window.addEventListener(\"resize\", function(){window._Plotly.Plots.resize(document.getElementById(\"b84d154f-9e02-4230-834e-c84bc8fe6834\"));});</script>"
      ]
     },
     "metadata": {},
     "output_type": "display_data"
    }
   ],
   "source": [
    "iplot(choromap)"
   ]
  },
  {
   "cell_type": "code",
   "execution_count": null,
   "metadata": {},
   "outputs": [],
   "source": []
  }
 ],
 "metadata": {
  "kernelspec": {
   "display_name": "Python 3",
   "language": "python",
   "name": "python3"
  },
  "language_info": {
   "codemirror_mode": {
    "name": "ipython",
    "version": 3
   },
   "file_extension": ".py",
   "mimetype": "text/x-python",
   "name": "python",
   "nbconvert_exporter": "python",
   "pygments_lexer": "ipython3",
   "version": "3.7.1"
  }
 },
 "nbformat": 4,
 "nbformat_minor": 2
}
